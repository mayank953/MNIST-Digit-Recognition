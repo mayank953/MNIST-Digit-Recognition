{
 "cells": [
  {
   "cell_type": "code",
   "execution_count": 2,
   "metadata": {},
   "outputs": [],
   "source": [
    "import pandas as pd\n",
    "import numpy as np\n",
    "import matplotlib.pyplot as plt\n",
    "import matplotlib.image as mpimg\n",
    "import seaborn as sns\n",
    "%matplotlib inline\n",
    "\n",
    "np.random.seed(2)"
   ]
  },
  {
   "cell_type": "code",
   "execution_count": 3,
   "metadata": {},
   "outputs": [
    {
     "name": "stderr",
     "output_type": "stream",
     "text": [
      "c:\\users\\mayan\\appdata\\local\\programs\\python\\python36\\lib\\site-packages\\h5py\\__init__.py:36: FutureWarning: Conversion of the second argument of issubdtype from `float` to `np.floating` is deprecated. In future, it will be treated as `np.float64 == np.dtype(float).type`.\n",
      "  from ._conv import register_converters as _register_converters\n",
      "Using TensorFlow backend.\n"
     ]
    }
   ],
   "source": [
    "from sklearn.model_selection import train_test_split\n",
    "from sklearn.metrics import confusion_matrix\n",
    "import itertools\n",
    "\n",
    "from keras.utils.np_utils import to_categorical # convert to one-hot-encoding\n",
    "from keras.models import Sequential\n",
    "from keras.layers import Dense, Dropout, Flatten, Conv2D, MaxPool2D\n",
    "from keras.optimizers import Adam\n",
    "from keras.preprocessing.image import ImageDataGenerator\n",
    "from keras.callbacks import ReduceLROnPlateau"
   ]
  },
  {
   "cell_type": "code",
   "execution_count": 4,
   "metadata": {},
   "outputs": [],
   "source": [
    "from keras.optimizers import Adam"
   ]
  },
  {
   "cell_type": "code",
   "execution_count": 5,
   "metadata": {},
   "outputs": [],
   "source": [
    "train = pd.read_csv(\"train.csv\")\n",
    "test = pd.read_csv(\"test.csv\")"
   ]
  },
  {
   "cell_type": "code",
   "execution_count": 6,
   "metadata": {},
   "outputs": [
    {
     "data": {
      "text/plain": [
       "1    4684\n",
       "7    4401\n",
       "3    4351\n",
       "9    4188\n",
       "2    4177\n",
       "6    4137\n",
       "0    4132\n",
       "4    4072\n",
       "8    4063\n",
       "5    3795\n",
       "Name: label, dtype: int64"
      ]
     },
     "execution_count": 6,
     "metadata": {},
     "output_type": "execute_result"
    },
    {
     "data": {
      "image/png": "[encoded data removed]",
      "text/plain": [
       "<matplotlib.figure.Figure at 0x1b99c9ade80>"
      ]
     },
     "metadata": {},
     "output_type": "display_data"
    }
   ],
   "source": [
    "Y_train = train[\"label\"]\n",
    "X_train = train.drop(labels = [\"label\"],axis = 1) \n",
    "del train\n",
    "g = sns.countplot(Y_train)\n",
    "Y_train.value_counts()"
   ]
  },
  {
   "cell_type": "code",
   "execution_count": 7,
   "metadata": {},
   "outputs": [
    {
     "name": "stdout",
     "output_type": "stream",
     "text": [
      "shape of X_train\n",
      "(42000, 784)\n",
      "shape of X_test\n",
      "(42000,)\n",
      "shape of test\n",
      "(28000, 784)\n"
     ]
    }
   ],
   "source": [
    "print (\"shape of X_train\") \n",
    "print(X_train.shape)\n",
    "print (\"shape of X_test\") \n",
    "print(Y_train.shape)\n",
    "print (\"shape of test\") \n",
    "print(test.shape)"
   ]
  },
  {
   "cell_type": "code",
   "execution_count": 8,
   "metadata": {},
   "outputs": [],
   "source": [
    "#normalizing the data\n",
    "X_train = X_train / 255.0\n",
    "test = test / 255.0"
   ]
  },
  {
   "cell_type": "markdown",
   "metadata": {},
   "source": [
    "<h1> Reshaping of the data</h1>"
   ]
  },
  {
   "cell_type": "code",
   "execution_count": 9,
   "metadata": {},
   "outputs": [],
   "source": [
    "X_train = X_train.values.reshape(-1,28,28,1)\n",
    "test = test.values.reshape(-1,28,28,1)"
   ]
  },
  {
   "cell_type": "markdown",
   "metadata": {},
   "source": [
    "<h2> One hot encoding </h2>"
   ]
  },
  {
   "cell_type": "code",
   "execution_count": 10,
   "metadata": {},
   "outputs": [],
   "source": [
    "Y_train = to_categorical(Y_train, num_classes = 10)"
   ]
  },
  {
   "cell_type": "markdown",
   "metadata": {},
   "source": [
    "<h1> Dividing into train & set </h1>"
   ]
  },
  {
   "cell_type": "code",
   "execution_count": 11,
   "metadata": {},
   "outputs": [],
   "source": [
    "random_seed = 2\n",
    "X_train, X_val, Y_train, Y_val = train_test_split(X_train, Y_train, test_size = 0.1, random_state=random_seed )"
   ]
  },
  {
   "cell_type": "code",
   "execution_count": 12,
   "metadata": {},
   "outputs": [
    {
     "data": {
      "image/png": "[encoded data removed]",
      "text/plain": [
       "<matplotlib.figure.Figure at 0x1b99ccf7dd8>"
      ]
     },
     "metadata": {},
     "output_type": "display_data"
    }
   ],
   "source": [
    "g = plt.imshow(X_train[0][:,:,0])"
   ]
  },
  {
   "cell_type": "markdown",
   "metadata": {},
   "source": [
    "<h1> CNN MODEL </h1>"
   ]
  },
  {
   "cell_type": "code",
   "execution_count": 5,
   "metadata": {},
   "outputs": [],
   "source": [
    "model = Sequential()\n",
    "\n",
    "model.add(Conv2D(filters = 32, kernel_size = (5,5),padding = 'Valid', \n",
    "                 activation ='relu', input_shape = (28,28,1)))\n",
    "model.add(Conv2D(filters = 32, kernel_size = (3,3),padding = 'Same', \n",
    "                 activation ='relu'))\n",
    "model.add(MaxPool2D(pool_size=(2,2)))\n",
    "model.add(Dropout(0.2))\n",
    "\n",
    "\n",
    "model.add(Conv2D(filters = 64, kernel_size = (3,3),padding = 'Same', \n",
    "                 activation ='relu'))\n",
    "model.add(Conv2D(filters = 64, kernel_size = (3,3),padding = 'Same', \n",
    "                 activation ='relu'))\n",
    "model.add(MaxPool2D(pool_size=(2,2), strides=(2,2)))\n",
    "model.add(Dropout(0.2))\n",
    "\n",
    "\n",
    "model.add(Flatten())\n",
    "model.add(Dense(512, activation = \"relu\"))\n",
    "model.add(Dropout(0.5))\n",
    "model.add(Dense(10, activation = \"softmax\"))\n",
    "\n",
    "model.compile(loss='categorical_crossentropy', optimizer = Adam(lr=1e-3), metrics=[\"accuracy\"])\n",
    "annealer = ReduceLROnPlateau(monitor='val_acc', patience=2, verbose=1, factor=0.5, min_lr=0.00001)\n",
    "\n",
    "epochs = 50\n",
    "batch_size = 64"
   ]
  },
  {
   "cell_type": "markdown",
   "metadata": {},
   "source": [
    "# learning rate \n",
    "\n",
    "we will be reducing learning rate as we proceed & observe that we are not obtaining a significant decrease in loss function\n"
   ]
  },
  {
   "cell_type": "code",
   "execution_count": 18,
   "metadata": {},
   "outputs": [],
   "source": [
    "learning_rate_reduction = ReduceLROnPlateau(monitor='val_acc', \n",
    "                                            patience=2, \n",
    "                                            verbose=1, \n",
    "                                            factor=0.5, \n",
    "                                            min_lr=0.00001)"
   ]
  },
  {
   "cell_type": "markdown",
   "metadata": {},
   "source": [
    "# DATA AUGMENTATION \n",
    "creating more data from the existing data using various data augmentation techniques so as to help our model train better. "
   ]
  },
  {
   "cell_type": "code",
   "execution_count": 16,
   "metadata": {},
   "outputs": [],
   "source": [
    "datagen = ImageDataGenerator(\n",
    "        featurewise_center=False,  # set input mean to 0 over the dataset\n",
    "        samplewise_center=False,  # set each sample mean to 0\n",
    "        featurewise_std_normalization=False,  # divide inputs by std of the dataset\n",
    "        samplewise_std_normalization=False,  # divide each input by its std\n",
    "        zca_whitening=False,  # apply ZCA whitening\n",
    "        rotation_range=10,  # randomly rotate images in the range (degrees, 0 to 180)\n",
    "        zoom_range = 0.1, # Randomly zoom image \n",
    "        width_shift_range=0.1,  # randomly shift images horizontally (fraction of total width)\n",
    "        height_shift_range=0.1,  # randomly shift images vertically (fraction of total height)\n",
    "        horizontal_flip=False,  # randomly flip images\n",
    "        vertical_flip=False)  # randomly flip images\n",
    "\n",
    "datagen.fit(X_train)\n"
   ]
  },
  {
   "cell_type": "code",
   "execution_count": 19,
   "metadata": {},
   "outputs": [
    {
     "name": "stdout",
     "output_type": "stream",
     "text": [
      "Epoch 1/50\n",
      " - 201s - loss: 0.3824 - acc: 0.8760 - val_loss: 0.0786 - val_acc: 0.9757\n",
      "Epoch 2/50\n",
      " - 201s - loss: 0.1290 - acc: 0.9603 - val_loss: 0.0376 - val_acc: 0.9890\n",
      "Epoch 3/50\n",
      " - 201s - loss: 0.0994 - acc: 0.9696 - val_loss: 0.0367 - val_acc: 0.9910\n",
      "Epoch 4/50\n",
      " - 312s - loss: 0.0871 - acc: 0.9745 - val_loss: 0.0304 - val_acc: 0.9910\n",
      "Epoch 5/50\n",
      " - 313s - loss: 0.0767 - acc: 0.9772 - val_loss: 0.0302 - val_acc: 0.9917\n",
      "Epoch 6/50\n",
      " - 310s - loss: 0.0688 - acc: 0.9781 - val_loss: 0.0301 - val_acc: 0.9910\n",
      "Epoch 7/50\n",
      " - 262s - loss: 0.0614 - acc: 0.9814 - val_loss: 0.0304 - val_acc: 0.9895\n",
      "Epoch 8/50\n",
      " - 196s - loss: 0.0591 - acc: 0.9821 - val_loss: 0.0208 - val_acc: 0.9931\n",
      "Epoch 9/50\n",
      " - 208s - loss: 0.0564 - acc: 0.9833 - val_loss: 0.0211 - val_acc: 0.9943\n",
      "Epoch 10/50\n",
      " - 207s - loss: 0.0514 - acc: 0.9841 - val_loss: 0.0228 - val_acc: 0.9940\n",
      "Epoch 11/50\n",
      " - 207s - loss: 0.0529 - acc: 0.9838 - val_loss: 0.0158 - val_acc: 0.9960\n",
      "Epoch 12/50\n",
      " - 206s - loss: 0.0508 - acc: 0.9851 - val_loss: 0.0242 - val_acc: 0.9933\n",
      "Epoch 13/50\n",
      " - 208s - loss: 0.0451 - acc: 0.9857 - val_loss: 0.0236 - val_acc: 0.9924\n",
      "Epoch 14/50\n",
      "\n",
      "Epoch 00014: reducing learning rate to 0.0005000000237487257.\n",
      " - 206s - loss: 0.0478 - acc: 0.9857 - val_loss: 0.0240 - val_acc: 0.9936\n",
      "Epoch 15/50\n",
      " - 207s - loss: 0.0375 - acc: 0.9878 - val_loss: 0.0166 - val_acc: 0.9945\n",
      "Epoch 16/50\n",
      "\n",
      "Epoch 00016: reducing learning rate to 0.0002500000118743628.\n",
      " - 206s - loss: 0.0322 - acc: 0.9900 - val_loss: 0.0177 - val_acc: 0.9945\n",
      "Epoch 17/50\n",
      " - 209s - loss: 0.0282 - acc: 0.9915 - val_loss: 0.0149 - val_acc: 0.9964\n",
      "Epoch 18/50\n",
      " - 208s - loss: 0.0277 - acc: 0.9916 - val_loss: 0.0150 - val_acc: 0.9960\n",
      "Epoch 19/50\n",
      " - 207s - loss: 0.0258 - acc: 0.9922 - val_loss: 0.0167 - val_acc: 0.9950\n",
      "Epoch 20/50\n",
      "\n",
      "Epoch 00020: reducing learning rate to 0.0001250000059371814.\n",
      " - 209s - loss: 0.0264 - acc: 0.9920 - val_loss: 0.0167 - val_acc: 0.9948\n",
      "Epoch 21/50\n",
      " - 207s - loss: 0.0241 - acc: 0.9931 - val_loss: 0.0147 - val_acc: 0.9960\n",
      "Epoch 22/50\n",
      "\n",
      "Epoch 00022: reducing learning rate to 6.25000029685907e-05.\n",
      " - 237s - loss: 0.0221 - acc: 0.9932 - val_loss: 0.0136 - val_acc: 0.9962\n",
      "Epoch 23/50\n",
      " - 314s - loss: 0.0210 - acc: 0.9937 - val_loss: 0.0136 - val_acc: 0.9967\n",
      "Epoch 24/50\n",
      " - 328s - loss: 0.0219 - acc: 0.9932 - val_loss: 0.0130 - val_acc: 0.9969\n",
      "Epoch 25/50\n",
      " - 299s - loss: 0.0206 - acc: 0.9938 - val_loss: 0.0127 - val_acc: 0.9964\n",
      "Epoch 26/50\n",
      " - 292s - loss: 0.0200 - acc: 0.9938 - val_loss: 0.0140 - val_acc: 0.9962\n",
      "Epoch 27/50\n",
      "\n",
      "Epoch 00027: reducing learning rate to 3.125000148429535e-05.\n",
      " - 317s - loss: 0.0190 - acc: 0.9947 - val_loss: 0.0144 - val_acc: 0.9964\n",
      "Epoch 28/50\n",
      " - 320s - loss: 0.0176 - acc: 0.9942 - val_loss: 0.0141 - val_acc: 0.9969\n",
      "Epoch 29/50\n",
      "\n",
      "Epoch 00029: reducing learning rate to 1.5625000742147677e-05.\n",
      " - 308s - loss: 0.0198 - acc: 0.9937 - val_loss: 0.0131 - val_acc: 0.9969\n",
      "Epoch 30/50\n",
      " - 295s - loss: 0.0188 - acc: 0.9947 - val_loss: 0.0134 - val_acc: 0.9969\n",
      "Epoch 31/50\n",
      "\n",
      "Epoch 00031: reducing learning rate to 1e-05.\n",
      " - 271s - loss: 0.0198 - acc: 0.9942 - val_loss: 0.0139 - val_acc: 0.9969\n",
      "Epoch 32/50\n",
      " - 309s - loss: 0.0178 - acc: 0.9942 - val_loss: 0.0137 - val_acc: 0.9967\n",
      "Epoch 33/50\n",
      " - 305s - loss: 0.0185 - acc: 0.9945 - val_loss: 0.0134 - val_acc: 0.9967\n",
      "Epoch 34/50\n",
      " - 308s - loss: 0.0191 - acc: 0.9940 - val_loss: 0.0132 - val_acc: 0.9967\n",
      "Epoch 35/50\n",
      " - 303s - loss: 0.0199 - acc: 0.9941 - val_loss: 0.0130 - val_acc: 0.9969\n",
      "Epoch 36/50\n",
      " - 300s - loss: 0.0186 - acc: 0.9943 - val_loss: 0.0132 - val_acc: 0.9969\n",
      "Epoch 37/50\n",
      " - 309s - loss: 0.0187 - acc: 0.9939 - val_loss: 0.0132 - val_acc: 0.9969\n",
      "Epoch 38/50\n",
      " - 315s - loss: 0.0186 - acc: 0.9939 - val_loss: 0.0132 - val_acc: 0.9969\n",
      "Epoch 39/50\n",
      " - 239s - loss: 0.0194 - acc: 0.9941 - val_loss: 0.0132 - val_acc: 0.9969\n",
      "Epoch 40/50\n",
      " - 195s - loss: 0.0190 - acc: 0.9942 - val_loss: 0.0133 - val_acc: 0.9969\n",
      "Epoch 41/50\n",
      " - 195s - loss: 0.0198 - acc: 0.9936 - val_loss: 0.0134 - val_acc: 0.9967\n",
      "Epoch 42/50\n",
      " - 1998s - loss: 0.0186 - acc: 0.9943 - val_loss: 0.0133 - val_acc: 0.9969\n",
      "Epoch 43/50\n",
      " - 37023s - loss: 0.0198 - acc: 0.9941 - val_loss: 0.0132 - val_acc: 0.9969\n",
      "Epoch 44/50\n",
      " - 343s - loss: 0.0189 - acc: 0.9939 - val_loss: 0.0133 - val_acc: 0.9969\n",
      "Epoch 45/50\n",
      " - 347s - loss: 0.0187 - acc: 0.9940 - val_loss: 0.0130 - val_acc: 0.9969\n",
      "Epoch 46/50\n",
      " - 305s - loss: 0.0177 - acc: 0.9944 - val_loss: 0.0129 - val_acc: 0.9969\n",
      "Epoch 47/50\n",
      " - 279s - loss: 0.0190 - acc: 0.9942 - val_loss: 0.0129 - val_acc: 0.9969\n",
      "Epoch 48/50\n",
      " - 305s - loss: 0.0188 - acc: 0.9939 - val_loss: 0.0130 - val_acc: 0.9967\n",
      "Epoch 49/50\n",
      " - 292s - loss: 0.0164 - acc: 0.9947 - val_loss: 0.0131 - val_acc: 0.9967\n",
      "Epoch 50/50\n",
      " - 316s - loss: 0.0187 - acc: 0.9938 - val_loss: 0.0132 - val_acc: 0.9969\n"
     ]
    }
   ],
   "source": [
    "history = model.fit_generator(datagen.flow(X_train,Y_train, batch_size=batch_size),\n",
    "                              epochs = epochs, validation_data = (X_val,Y_val),\n",
    "                              verbose = 2, steps_per_epoch=X_train.shape[0] // batch_size\n",
    "                              , callbacks=[learning_rate_reduction])"
   ]
  },
  {
   "cell_type": "code",
   "execution_count": 20,
   "metadata": {},
   "outputs": [
    {
     "data": {
      "image/png": "[encoded data removed]",
      "text/plain": [
       "<matplotlib.figure.Figure at 0x1b994a60550>"
      ]
     },
     "metadata": {},
     "output_type": "display_data"
    }
   ],
   "source": [
    "# Plot the loss and accuracy curves for training and validation \n",
    "fig, ax = plt.subplots(2,1)\n",
    "ax[0].plot(history.history['loss'], color='b', label=\"Training loss\")\n",
    "ax[0].plot(history.history['val_loss'], color='r', label=\"validation loss\",axes =ax[0])\n",
    "legend = ax[0].legend(loc='best', shadow=True)\n",
    "\n",
    "ax[1].plot(history.history['acc'], color='b', label=\"Training accuracy\")\n",
    "ax[1].plot(history.history['val_acc'], color='r',label=\"Validation accuracy\")\n",
    "legend = ax[1].legend(loc='best', shadow=True)"
   ]
  },
  {
   "cell_type": "code",
   "execution_count": 21,
   "metadata": {},
   "outputs": [],
   "source": [
    "\n",
    "results = model.predict(test)\n",
    "\n",
    "# select the indix with the maximum probability\n",
    "results = np.argmax(results,axis = 1)\n",
    "\n",
    "results = pd.Series(results,name=\"Label\")"
   ]
  },
  {
   "cell_type": "code",
   "execution_count": 22,
   "metadata": {},
   "outputs": [],
   "source": [
    "submission = pd.concat([pd.Series(range(1,28001),name = \"ImageId\"),results],axis = 1)\n",
    "\n",
    "submission.to_csv(\"sub2.csv\",index=False)"
   ]
  },
  {
   "cell_type": "code",
   "execution_count": null,
   "metadata": {},
   "outputs": [],
   "source": []
  }
 ],
 "metadata": {
  "kernelspec": {
   "display_name": "Python 3",
   "language": "python",
   "name": "python3"
  },
  "language_info": {
   "codemirror_mode": {
    "name": "ipython",
    "version": 3
   },
   "file_extension": ".py",
   "mimetype": "text/x-python",
   "name": "python",
   "nbconvert_exporter": "python",
   "pygments_lexer": "ipython3",
   "version": "3.6.3"
  },
  "varInspector": {
   "cols": {
    "lenName": 16,
    "lenType": 16,
    "lenVar": 40
   },
   "kernels_config": {
    "python": {
     "delete_cmd_postfix": "",
     "delete_cmd_prefix": "del ",
     "library": "var_list.py",
     "varRefreshCmd": "print(var_dic_list())"
    },
    "r": {
     "delete_cmd_postfix": ") ",
     "delete_cmd_prefix": "rm(",
     "library": "var_list.r",
     "varRefreshCmd": "cat(var_dic_list()) "
    }
   },
   "oldHeight": 199,
   "position": {
    "height": "221px",
    "left": "996px",
    "right": "20px",
    "top": "120px",
    "width": "340px"
   },
   "types_to_exclude": [
    "module",
    "function",
    "builtin_function_or_method",
    "instance",
    "_Feature"
   ],
   "varInspector_section_display": "block",
   "window_display": false
  }
 },
 "nbformat": 4,
 "nbformat_minor": 2
}
